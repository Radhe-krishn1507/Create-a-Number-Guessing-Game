{
 "cells": [
  {
   "cell_type": "code",
   "execution_count": null,
   "id": "18476dba-c762-4990-8613-fad76e94d831",
   "metadata": {},
   "outputs": [],
   "source": [
    "#python guessing number game\n",
    "import random\n",
    "\n",
    "lowest_num = 1\n",
    "highest_num = 100\n",
    "answer = random.randint(lowest_num, highest_num)\n",
    "guesses = 0\n",
    "is_running = True\n",
    "\n",
    "print(\"Python number guessing game\")\n",
    "print(f\"Select a number between {lowest_num} and {highest_num}\")\n",
    "\n",
    "while is_running:\n",
    "\n",
    "    guess = input(\"Enter your guess:\")\n",
    "\n",
    "    if guess.isdigit():\n",
    "        guess = int(guess)\n",
    "        guesses += 1\n",
    "\n",
    "        if guess < lowest_num or guess > highest_num:\n",
    "            print(\"That number is a out of range\")\n",
    "            print(f\"please select a number between {lowest_num} amd {highest_num}\")\n",
    "        elif guess < answer:\n",
    "            print(\"Too low! Try again!\")\n",
    "        elif guess > answer:\n",
    "            print(\"Too High! Try again!\")\n",
    "        else:\n",
    "            print(f\"CORRECT! The answer was {answer}\")\n",
    "            print(f\"number of guesses: {guesses}\")\n",
    "            is_running = False\n",
    "\n",
    "    else:\n",
    "        print(\"Invalid guess\")\n",
    "        print(f\"please select a number between {lowest_num} and {highest_num}\")"
   ]
  }
 ],
 "metadata": {
  "kernelspec": {
   "display_name": "Python 3 (ipykernel)",
   "language": "python",
   "name": "python3"
  },
  "language_info": {
   "codemirror_mode": {
    "name": "ipython",
    "version": 3
   },
   "file_extension": ".py",
   "mimetype": "text/x-python",
   "name": "python",
   "nbconvert_exporter": "python",
   "pygments_lexer": "ipython3",
   "version": "3.13.1"
  }
 },
 "nbformat": 4,
 "nbformat_minor": 5
}
